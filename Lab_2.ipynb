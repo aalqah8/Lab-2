{
 "cells": [
  {
   "cell_type": "code",
   "execution_count": 8,
   "metadata": {},
   "outputs": [
    {
     "name": "stdout",
     "output_type": "stream",
     "text": [
      "Abdulaziz S. Alqahtani\n",
      "777 Ben Hur Road apt 1305\n",
      "Baton Rouge, LA 70820\n",
      "\r\n",
      "Abdulaziz Saad Alqahtani\r",
      "777 Ben Hur Road apt1305\r",
      "Baton Rouge, LA 70820\n"
     ]
    }
   ],
   "source": [
    "## Exercise 1: Address\n",
    "\n",
    "print('Abdulaziz S. Alqahtani')   #This is obvious\n",
    "print('777 Ben Hur Road apt 1305')\n",
    "print('Baton Rouge, LA 70820')\n",
    "print('\\r')\n",
    "print('Abdulaziz Saad Alqahtani\\r777 Ben Hur Road apt1305\\rBaton Rouge, LA 70820')"
   ]
  },
  {
   "cell_type": "code",
   "execution_count": 16,
   "metadata": {},
   "outputs": [
    {
     "name": "stdout",
     "output_type": "stream",
     "text": [
      "Hello Abdulaziz!\n"
     ]
    }
   ],
   "source": [
    "## Exercise 2: Hello\n",
    "\n",
    "\n",
    "name=input('input your name:')\n",
    "print('Hello '+name+'!')"
   ]
  },
  {
   "cell_type": "code",
   "execution_count": 18,
   "metadata": {},
   "outputs": [
    {
     "data": {
      "text/plain": [
       "str"
      ]
     },
     "execution_count": 18,
     "metadata": {},
     "output_type": "execute_result"
    }
   ],
   "source": [
    "type(name)"
   ]
  },
  {
   "cell_type": "code",
   "execution_count": 19,
   "metadata": {},
   "outputs": [
    {
     "data": {
      "text/plain": [
       "'AbdulazizAbdulazizAbdulaziz'"
      ]
     },
     "execution_count": 19,
     "metadata": {},
     "output_type": "execute_result"
    }
   ],
   "source": [
    "3*name"
   ]
  },
  {
   "cell_type": "code",
   "execution_count": 40,
   "metadata": {},
   "outputs": [
    {
     "name": "stdout",
     "output_type": "stream",
     "text": [
      "The area of the room is 800.0 square meters.\n"
     ]
    }
   ],
   "source": [
    "## Example 3: Area of room\n",
    "def area(length,width):\n",
    "    area = length * width\n",
    "    return area\n",
    "\n",
    "length = input('Length of room in meters:')\n",
    "length = float(length)\n",
    "width = input('Width of room in meters:')\n",
    "width= float(width)\n",
    "\n",
    "print('The area of the room is', area(length,width),'square meters.')"
   ]
  },
  {
   "cell_type": "code",
   "execution_count": 36,
   "metadata": {},
   "outputs": [],
   "source": [
    "def area(length,width):\n",
    "    area = length * width\n",
    "    return area"
   ]
  },
  {
   "cell_type": "code",
   "execution_count": 38,
   "metadata": {},
   "outputs": [
    {
     "data": {
      "text/plain": [
       "800.0"
      ]
     },
     "execution_count": 38,
     "metadata": {},
     "output_type": "execute_result"
    }
   ],
   "source": [
    "area(length,width)"
   ]
  },
  {
   "cell_type": "code",
   "execution_count": 41,
   "metadata": {},
   "outputs": [
    {
     "data": {
      "text/plain": [
       "9"
      ]
     },
     "execution_count": 41,
     "metadata": {},
     "output_type": "execute_result"
    }
   ],
   "source": [
    "area(3,3)"
   ]
  },
  {
   "cell_type": "code",
   "execution_count": 52,
   "metadata": {},
   "outputs": [
    {
     "name": "stdout",
     "output_type": "stream",
     "text": [
      "This software will create a sorted list of integers.\n",
      "Please enter your positive integers one at a time.\n",
      "Enter a value of 0 to exit program and display the list.\n",
      "1\n",
      "2\n",
      "3\n",
      "4\n",
      "5\n"
     ]
    }
   ],
   "source": [
    "## Exercise 104: Sorted Order\n",
    "\n",
    "print('This software will create a sorted list of integers.')\n",
    "print('Please enter your positive integers one at a time.')\n",
    "print('Enter a value of 0 to exit program and display the list.')\n",
    "\n",
    "myList = []\n",
    "i = 1\n",
    "\n",
    "while i > 0:\n",
    "    i = int(input('Input an integer or 0 to quit:'))\n",
    "    myList.append(i)\n",
    "    \n",
    "myList= sorted(myList)\n",
    "myList.remove(0)\n",
    "for num in myList:\n",
    "    print(myList[num-1])"
   ]
  },
  {
   "cell_type": "code",
   "execution_count": null,
   "metadata": {},
   "outputs": [],
   "source": []
  }
 ],
 "metadata": {
  "kernelspec": {
   "display_name": "Python 3",
   "language": "python",
   "name": "python3"
  },
  "language_info": {
   "codemirror_mode": {
    "name": "ipython",
    "version": 3
   },
   "file_extension": ".py",
   "mimetype": "text/x-python",
   "name": "python",
   "nbconvert_exporter": "python",
   "pygments_lexer": "ipython3",
   "version": "3.6.3"
  }
 },
 "nbformat": 4,
 "nbformat_minor": 2
}
